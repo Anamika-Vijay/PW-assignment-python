{
  "nbformat": 4,
  "nbformat_minor": 0,
  "metadata": {
    "colab": {
      "provenance": []
    },
    "kernelspec": {
      "name": "python3",
      "display_name": "Python 3"
    },
    "language_info": {
      "name": "python"
    }
  },
  "cells": [
    {
      "cell_type": "markdown",
      "source": [
        "**PYTHON BASICS**\n",
        "\n",
        "**THEORY QUESTIONS**"
      ],
      "metadata": {
        "id": "Ap9DzCNTQO8a"
      }
    },
    {
      "cell_type": "markdown",
      "source": [
        " 1. What is Python, and why is it popular?\n",
        "\n",
        "  Answer: Python is a high-level, interpreted programming language known for its simplicity, and readability. It is easy to read, making it beginner friendly.\n",
        "\n",
        "  It is popular beacuse of it's simplicity and versatality. It has a vast ecosystems of liabraries for web development, data science, AI and Automation. It has strong community support and extensive documentation\n",
        "\n",
        "2. What is an interpreter in Python?\n",
        "\n",
        " Answer - An interpreter in Python is a program that executes code line by line, converting it into machine-readable instructions.\n",
        "\n",
        "3. What are pre-defined keywords in Python?\n",
        "\n",
        " Answer -  Pre-defined keywords in Python have special meanings and cannot be used as variable names. Examples include if, else, for, while, def, return, True, False, etc.\n",
        "\n",
        "4. Can keywords be used as variable names?\n",
        "\n",
        "  Answer - No, keyword cannot be used as variable names in Python.\n",
        "\n",
        "5. What is mutability in Python?\n",
        "\n",
        "  Answer - Mutability in Python refers to whether an object's value can be changed after it is created. There are two kinds of objects : 1. mutable and 2. immutable\n",
        "\n",
        "  mutable objects can be modified while immutable objects cannot be changed after creation.\n",
        "\n",
        "6. Why are lists mutable, but tuples are immutable?\n",
        "\n",
        "  Answer - Lists are mutable because they are designed to be modified dynamically by adding, removing, or changing elements. whereas, tuples ensure data integrity and it is more memory efficient and useful.\n",
        "\n",
        "7. What is the difference between == and is operators in Python?\n",
        "\n",
        "  Answer - == checks forwheter two objects contain the same data\n",
        "\n",
        "  is checks whether two objects refer to the same memory location\n",
        "\n",
        "8. What are logical operators in Python?\n",
        "\n",
        "   Answer - Logical operators are used to perform logical operations on Boolean values: there are 3 logical operators AND, OR, NOT.\n",
        "\n",
        "   AND reurns True if both conditions are True\n",
        "\n",
        "   OR returns True if at least one condition is True\n",
        "\n",
        "   not → Negates a Boolean value (True becomes False, and vice versa)\n",
        "\n",
        "9. What is type casting in Python?\n",
        "\n",
        "   Answer - Type casting is the process of changing one data type of a variable to another. It helps in performing operations between different data types.\n",
        "\n",
        "10. What is the difference between implicit and explicit type casting?\n",
        "\n",
        "   Answer - Implicit type casting : Python automatically converts a smaller data type to a larger one to avoid data loss.\n",
        "\n",
        "   Explicit type casting : The programmer manually converts one data type to another using functions like int, float, str, etc.\n",
        "\n",
        "11.  What is the purpose of conditional statements in Python?\n",
        "\n",
        "  Answer - Conditional statements control the flow of execution based on conditions. They allow the program to make decisions using if, elif, and else statements.\n",
        "\n",
        "12. How does the elif statement work?\n",
        "\n",
        "  Answer - THE elif statement is used to check multiple conditions sequentially in a Python code.\n",
        "  \n",
        "\n",
        "\n",
        "\n"
      ],
      "metadata": {
        "id": "F9C58dT1jQUn"
      }
    },
    {
      "cell_type": "code",
      "source": [
        "a = 10\n",
        "if a > 100:\n",
        "    print(\"This block will be executed if the numer is greater than 100\")\n",
        "elif a< 100:\n",
        "    print(\"This block will be executed if a is lesser than 100\")\n",
        "else:\n",
        "    print (\"the number is equal to 100\")"
      ],
      "metadata": {
        "colab": {
          "base_uri": "https://localhost:8080/"
        },
        "id": "1eVJ-zHjt0sJ",
        "outputId": "7e73d2ba-f792-457c-db37-6371d3263e42"
      },
      "execution_count": 1,
      "outputs": [
        {
          "output_type": "stream",
          "name": "stdout",
          "text": [
            "This block will be executed if a is lesser than 100\n"
          ]
        }
      ]
    },
    {
      "cell_type": "markdown",
      "source": [
        "13. What is the difference between for and while loops\u001a\n",
        "\n",
        "  Answer - For loops are used when the number of iterations is known.\n",
        "While loops are used when the number of iterations is unknown and depends on a condition.\n",
        "\n",
        "14. Describe a scenario where a while loop is more suitable than a for loop.\n",
        "\n",
        "  Answer - A while loop is more suitable when we don't know in advance how many iterations are needed.\n",
        "\n",
        "  Example: Reading user input until they enter a valid number."
      ],
      "metadata": {
        "id": "PwQFaQGHuEcj"
      }
    },
    {
      "cell_type": "markdown",
      "source": [
        "**PRACTICAL QUESTIONS**\n",
        "1. Write a Python program to print \"Hello, World!\n",
        "\n",
        "\n",
        "\n",
        "\n",
        "\n",
        "\n"
      ],
      "metadata": {
        "id": "lpqJq5y_vRmV"
      }
    },
    {
      "cell_type": "code",
      "source": [
        "print(\"Hello, World!\")"
      ],
      "metadata": {
        "colab": {
          "base_uri": "https://localhost:8080/"
        },
        "id": "-qxsNeQUv1Be",
        "outputId": "6fc4f37b-cb5f-4cf5-e65a-812296a4df62"
      },
      "execution_count": 2,
      "outputs": [
        {
          "output_type": "stream",
          "name": "stdout",
          "text": [
            "Hello, World!\n"
          ]
        }
      ]
    },
    {
      "cell_type": "code",
      "source": [
        "# 2. Write a Python program that displays your name and age0\n",
        "print(\"My name is Anamika.\")\n",
        "print(\"I am 20 years old.\")"
      ],
      "metadata": {
        "colab": {
          "base_uri": "https://localhost:8080/"
        },
        "id": "0g-_WWpawDal",
        "outputId": "5ef92f7c-1d22-488f-a389-52d4c7ab82c2"
      },
      "execution_count": 3,
      "outputs": [
        {
          "output_type": "stream",
          "name": "stdout",
          "text": [
            "My name is Anamika.\n",
            "I am 20 years old.\n"
          ]
        }
      ]
    },
    {
      "cell_type": "code",
      "source": [
        "# 3.  Write code to print all the pre-defined keywords in Python using the keyword library\n",
        "help(\"keywords\")"
      ],
      "metadata": {
        "colab": {
          "base_uri": "https://localhost:8080/"
        },
        "id": "cAA8aZzpwTZT",
        "outputId": "9093aa71-353a-48b3-c9ba-ee2f8106a67b"
      },
      "execution_count": 4,
      "outputs": [
        {
          "output_type": "stream",
          "name": "stdout",
          "text": [
            "\n",
            "Here is a list of the Python keywords.  Enter any keyword to get more help.\n",
            "\n",
            "False               class               from                or\n",
            "None                continue            global              pass\n",
            "True                def                 if                  raise\n",
            "and                 del                 import              return\n",
            "as                  elif                in                  try\n",
            "assert              else                is                  while\n",
            "async               except              lambda              with\n",
            "await               finally             nonlocal            yield\n",
            "break               for                 not                 \n",
            "\n"
          ]
        }
      ]
    },
    {
      "cell_type": "code",
      "source": [
        " # 4. Write a program that checks if a given word is a Python keyword.\n",
        " import keyword\n",
        "word = input(\"Enter a word: \")\n",
        "if keyword.iskeyword(word):\n",
        "    print(f\"'{word}' is a Python keyword.\")\n",
        "else:\n",
        "    print(f\"'{word}' is NOT a Python keyword.\")"
      ],
      "metadata": {
        "colab": {
          "base_uri": "https://localhost:8080/"
        },
        "id": "mnqTTmOGxmFU",
        "outputId": "640e03db-183e-4099-e9c9-fe99c9cd757f"
      },
      "execution_count": 8,
      "outputs": [
        {
          "output_type": "stream",
          "name": "stdout",
          "text": [
            "Enter a word: except\n",
            "'except' is a Python keyword.\n"
          ]
        }
      ]
    },
    {
      "cell_type": "code",
      "source": [
        "# 5. Create a list and tuple in Python, and demonstrate how attempting to change an element works differently for each.\n",
        "# list\n",
        "list = [1,2,3,4,\"anamika\",\"is\",\"true\"]\n",
        "list"
      ],
      "metadata": {
        "colab": {
          "base_uri": "https://localhost:8080/"
        },
        "id": "Rpdjxe2Dxxrn",
        "outputId": "30228f8b-b2db-40eb-87fd-b67131147020"
      },
      "execution_count": 11,
      "outputs": [
        {
          "output_type": "execute_result",
          "data": {
            "text/plain": [
              "[1, 2, 3, 4, 'anamika', 'is', 'true']"
            ]
          },
          "metadata": {},
          "execution_count": 11
        }
      ]
    },
    {
      "cell_type": "code",
      "source": [
        "# modifying a list\n",
        "list[1]=99\n",
        "list[0]=104\n",
        "list[5]=\"are\"\n",
        "list # modifying list is possible because lists are mutable"
      ],
      "metadata": {
        "colab": {
          "base_uri": "https://localhost:8080/"
        },
        "id": "JRhc3nxoyvZk",
        "outputId": "03ea9a28-34f3-453e-e094-eff3604f744f"
      },
      "execution_count": 13,
      "outputs": [
        {
          "output_type": "execute_result",
          "data": {
            "text/plain": [
              "[104, 99, 3, 4, 'anamika', 'are', 'true']"
            ]
          },
          "metadata": {},
          "execution_count": 13
        }
      ]
    },
    {
      "cell_type": "code",
      "source": [
        "# tuples\n",
        "my_tuple=(10,20,100)\n",
        "my_tuple"
      ],
      "metadata": {
        "colab": {
          "base_uri": "https://localhost:8080/"
        },
        "id": "6pHuf8WRzSaO",
        "outputId": "2e41e4aa-489e-4d79-a4ae-091414747e5b"
      },
      "execution_count": 14,
      "outputs": [
        {
          "output_type": "execute_result",
          "data": {
            "text/plain": [
              "(10, 20, 100)"
            ]
          },
          "metadata": {},
          "execution_count": 14
        }
      ]
    },
    {
      "cell_type": "code",
      "source": [
        "# modifying tuple\n",
        "my_tuple[0]=2 # this shows an error because tuples are immutable they can not be changed once created."
      ],
      "metadata": {
        "colab": {
          "base_uri": "https://localhost:8080/",
          "height": 159
        },
        "id": "scU1uoYcztUS",
        "outputId": "24de1171-b989-4af6-f3bc-85e90355f80e"
      },
      "execution_count": 15,
      "outputs": [
        {
          "output_type": "error",
          "ename": "TypeError",
          "evalue": "'tuple' object does not support item assignment",
          "traceback": [
            "\u001b[0;31m---------------------------------------------------------------------------\u001b[0m",
            "\u001b[0;31mTypeError\u001b[0m                                 Traceback (most recent call last)",
            "\u001b[0;32m<ipython-input-15-e5e9cacddf2b>\u001b[0m in \u001b[0;36m<cell line: 0>\u001b[0;34m()\u001b[0m\n\u001b[1;32m      1\u001b[0m \u001b[0;31m# modifying tuple\u001b[0m\u001b[0;34m\u001b[0m\u001b[0;34m\u001b[0m\u001b[0m\n\u001b[0;32m----> 2\u001b[0;31m \u001b[0mmy_tuple\u001b[0m\u001b[0;34m[\u001b[0m\u001b[0;36m0\u001b[0m\u001b[0;34m]\u001b[0m\u001b[0;34m=\u001b[0m\u001b[0;36m2\u001b[0m\u001b[0;34m\u001b[0m\u001b[0;34m\u001b[0m\u001b[0m\n\u001b[0m",
            "\u001b[0;31mTypeError\u001b[0m: 'tuple' object does not support item assignment"
          ]
        }
      ]
    },
    {
      "cell_type": "code",
      "source": [
        "# 6. Write a function to demonstrate the behavior of mutable and immutable arguments\n",
        "\n"
      ],
      "metadata": {
        "id": "4di9gBZuz3iu"
      },
      "execution_count": 16,
      "outputs": []
    },
    {
      "cell_type": "code",
      "source": [
        "# 7. Write a program to demonstrate the use of logical operators\n",
        "#using AND operator\n",
        "attendance = int(input(\"Enter your attendance percentage: \"))\n",
        "marks = int(input(\"Enter your exam marks: \"))\n",
        "\n",
        "if attendance >= 75 and marks >= 40:\n",
        "    print(\"You have passed the exam.\")\n",
        "else:\n",
        "    print(\"You have to repeat the exam.\")"
      ],
      "metadata": {
        "colab": {
          "base_uri": "https://localhost:8080/"
        },
        "id": "1tTL_2yi1puo",
        "outputId": "904dbd2e-a490-491e-ef10-fc1f6805f080"
      },
      "execution_count": 24,
      "outputs": [
        {
          "output_type": "stream",
          "name": "stdout",
          "text": [
            "Enter your attendance percentage: 45\n",
            "Enter your exam marks: 60\n",
            "You have to repeat the exam.\n"
          ]
        }
      ]
    },
    {
      "cell_type": "code",
      "source": [
        "# using 'or' operator\n",
        "salary = int(input(\"Enter your monthly salary: \"))\n",
        "credit_score = int(input(\"Enter your credit score: \"))\n",
        "\n",
        "if salary >= 50000 or credit_score >= 700:\n",
        "    print(\"You are eligible for the loan.\")\n",
        "else:\n",
        "    print(\"You are NOT eligible for the loan.\")"
      ],
      "metadata": {
        "colab": {
          "base_uri": "https://localhost:8080/"
        },
        "id": "9onwoneB3tjP",
        "outputId": "a471cd97-0bbd-4231-81dc-3df6e267ea0f"
      },
      "execution_count": 22,
      "outputs": [
        {
          "output_type": "stream",
          "name": "stdout",
          "text": [
            "Enter your monthly salary: 50000\n",
            "Enter your credit score: 700\n",
            "You are eligible for the loan.\n"
          ]
        }
      ]
    },
    {
      "cell_type": "code",
      "source": [
        "# using the NOT operator\n",
        "age = int(input(\"Enter your age: \"))\n",
        "\n",
        "# Using the 'not' operator\n",
        "if not (13 <= age <= 19):\n",
        "    print(\"You are NOT a teenager.\")\n",
        "else:\n",
        "    print(\"You are a teenager.\")\n"
      ],
      "metadata": {
        "colab": {
          "base_uri": "https://localhost:8080/"
        },
        "id": "ky8UEcG5IoOZ",
        "outputId": "575a02ec-48c4-4b4a-c37f-4b11da7aed07"
      },
      "execution_count": 25,
      "outputs": [
        {
          "output_type": "stream",
          "name": "stdout",
          "text": [
            "Enter your age: 21\n",
            "You are NOT a teenager.\n"
          ]
        }
      ]
    },
    {
      "cell_type": "code",
      "source": [
        "# 9. Write a Python program to convert user input from string to integer, float, and boolean types0.\n",
        "user_input = input(\"Enter a value- \")\n",
        "\n",
        "\n",
        "try:\n",
        "    int_value = int(user_input)\n",
        "    print(\"Integer:\", int_value)\n",
        "except ValueError:\n",
        "    print(\"Cannot convert to Integer\")\n",
        "\n",
        "# Converting input to float\n",
        "try:\n",
        "    float_value = float(user_input)\n",
        "    print(\"Float:\", float_value)\n",
        "except ValueError:\n",
        "    print(\"Cannot convert to Float\")\n",
        "\n",
        "# Converting input to boolean\n",
        "bool_value = bool(user_input)  # Empty string = False, Non-empty string = True\n",
        "print(\"Boolean:\", bool_value)\n"
      ],
      "metadata": {
        "colab": {
          "base_uri": "https://localhost:8080/"
        },
        "id": "JUZLKarzJlk6",
        "outputId": "ebdbfe39-f9f8-4c82-aec2-c3ff940c9f2c"
      },
      "execution_count": 26,
      "outputs": [
        {
          "output_type": "stream",
          "name": "stdout",
          "text": [
            "Enter a value- 34\n",
            "Integer: 34\n",
            "Float: 34.0\n",
            "Boolean: True\n"
          ]
        }
      ]
    },
    {
      "cell_type": "code",
      "source": [
        "# 10. Write code to demonstrate type casting with list elements0\n",
        "string_list = [\"40\", \"26.5\", \"50\", \"oyo\", \"64\"]\n"
      ],
      "metadata": {
        "id": "Rn6uUmtmKMoV"
      },
      "execution_count": 27,
      "outputs": []
    },
    {
      "cell_type": "code",
      "source": [
        "# 11. Write a program that checks if a number is positive, negative, or zero\n",
        "num = float(input(\"Enter a number: \"))\n",
        "if num > 0:\n",
        "    print(\"The number is Positive.\")\n",
        "elif num < 0:\n",
        "    print(\"The number is Negative.\")\n",
        "else:\n",
        "    print(\"The number is Zero.\")\n"
      ],
      "metadata": {
        "colab": {
          "base_uri": "https://localhost:8080/"
        },
        "id": "GwbUC6Y8LdkL",
        "outputId": "da759280-f668-422b-b50e-2e6f3ef174ab"
      },
      "execution_count": 28,
      "outputs": [
        {
          "output_type": "stream",
          "name": "stdout",
          "text": [
            "Enter a number: 56\n",
            "The number is Positive.\n"
          ]
        }
      ]
    },
    {
      "cell_type": "code",
      "source": [
        "# 12.Write a for loop to print numbers from 1 to 100\n",
        "for num in range(1, 101):\n",
        "    print(num)"
      ],
      "metadata": {
        "colab": {
          "base_uri": "https://localhost:8080/"
        },
        "id": "NODXn_h2Lt88",
        "outputId": "4f6becf2-3e81-44cb-86af-04fa6bc385de"
      },
      "execution_count": 29,
      "outputs": [
        {
          "output_type": "stream",
          "name": "stdout",
          "text": [
            "1\n",
            "2\n",
            "3\n",
            "4\n",
            "5\n",
            "6\n",
            "7\n",
            "8\n",
            "9\n",
            "10\n",
            "11\n",
            "12\n",
            "13\n",
            "14\n",
            "15\n",
            "16\n",
            "17\n",
            "18\n",
            "19\n",
            "20\n",
            "21\n",
            "22\n",
            "23\n",
            "24\n",
            "25\n",
            "26\n",
            "27\n",
            "28\n",
            "29\n",
            "30\n",
            "31\n",
            "32\n",
            "33\n",
            "34\n",
            "35\n",
            "36\n",
            "37\n",
            "38\n",
            "39\n",
            "40\n",
            "41\n",
            "42\n",
            "43\n",
            "44\n",
            "45\n",
            "46\n",
            "47\n",
            "48\n",
            "49\n",
            "50\n",
            "51\n",
            "52\n",
            "53\n",
            "54\n",
            "55\n",
            "56\n",
            "57\n",
            "58\n",
            "59\n",
            "60\n",
            "61\n",
            "62\n",
            "63\n",
            "64\n",
            "65\n",
            "66\n",
            "67\n",
            "68\n",
            "69\n",
            "70\n",
            "71\n",
            "72\n",
            "73\n",
            "74\n",
            "75\n",
            "76\n",
            "77\n",
            "78\n",
            "79\n",
            "80\n",
            "81\n",
            "82\n",
            "83\n",
            "84\n",
            "85\n",
            "86\n",
            "87\n",
            "88\n",
            "89\n",
            "90\n",
            "91\n",
            "92\n",
            "93\n",
            "94\n",
            "95\n",
            "96\n",
            "97\n",
            "98\n",
            "99\n",
            "100\n"
          ]
        }
      ]
    },
    {
      "cell_type": "code",
      "source": [
        "# 13.Write a Python program to find the sum of all even numbers between 1 and 500\n",
        "sum_even = 0\n",
        "for num in range(2, 501, 2):\n",
        "    sum_even += num\n",
        "  print(\"Sum of all even numbers between 1 and 500 is:\", sum_even)\n"
      ],
      "metadata": {
        "colab": {
          "base_uri": "https://localhost:8080/"
        },
        "id": "VbU0ax1xL8WB",
        "outputId": "f1b52534-cd99-4a82-9128-e56525eb1684"
      },
      "execution_count": 30,
      "outputs": [
        {
          "output_type": "stream",
          "name": "stdout",
          "text": [
            "Sum of all even numbers between 1 and 500 is: 62750\n"
          ]
        }
      ]
    },
    {
      "cell_type": "code",
      "source": [
        "# 14. Write a program to reverse a string using a while loop\n",
        "# Taking input from the user\n",
        "string = input(\"Enter a string: \")\n",
        "reversed_string = \"\"\n",
        "index = len(string) - 1\n",
        "while index >= 0:\n",
        "    reversed_string += string[index]\n",
        "    index -= 1\n",
        "print(\"Reversed String:\", reversed_string)\n"
      ],
      "metadata": {
        "colab": {
          "base_uri": "https://localhost:8080/"
        },
        "id": "DYOjn3jIMOLf",
        "outputId": "ced625ac-085c-4692-aaee-f47cb6c3f149"
      },
      "execution_count": 32,
      "outputs": [
        {
          "output_type": "stream",
          "name": "stdout",
          "text": [
            "Enter a string: lovely\n",
            "Reversed String: ylevol\n"
          ]
        }
      ]
    },
    {
      "cell_type": "code",
      "source": [
        "# 15. Write a Python program to calculate the factorial of a number provided by the user using a while loop.\n",
        "num = int(input(\"Enter a number: \"))\n",
        "factorial = 1\n",
        "i = num\n",
        "while i > 0:\n",
        "    factorial *= i\n",
        "    i -= 1\n",
        "print(f\"The factorial of {num} is: {factorial}\")\n"
      ],
      "metadata": {
        "colab": {
          "base_uri": "https://localhost:8080/"
        },
        "id": "StmIs7GYPbx3",
        "outputId": "7f90c9a1-dcb4-4bf6-bed4-11aad278e788"
      },
      "execution_count": 33,
      "outputs": [
        {
          "output_type": "stream",
          "name": "stdout",
          "text": [
            "Enter a number: 45\n",
            "The factorial of 45 is: 119622220865480194561963161495657715064383733760000000000\n"
          ]
        }
      ]
    },
    {
      "cell_type": "code",
      "source": [],
      "metadata": {
        "id": "UuY5bj53P-ap"
      },
      "execution_count": null,
      "outputs": []
    }
  ]
}